{
 "cells": [
  {
   "cell_type": "code",
   "execution_count": null,
   "metadata": {},
   "outputs": [],
   "source": [
    "import pandas as pd\n",
    "import re\n",
    "\n",
    "# Read the CSV file with ISO-8859-1 encoding\n",
    "file_path = r'C:\\Users\\nikha\\OneDrive\\Desktop\\DryTry\\system.csv'\n",
    "try:\n",
    "    df = pd.read_csv(file_path, encoding='ISO-8859-1')\n",
    "except FileNotFoundError:\n",
    "    print(f\"Error: The file at {file_path} was not found.\")\n",
    "    exit()\n",
    "\n",
    "# Rename the last column to 'Original Message'\n",
    "df.columns.values[-1] = 'Original Message'\n",
    "\n",
    "# Drop the 'Task Category' column if it exists\n",
    "if 'Task Category' in df.columns:\n",
    "    df = df.drop(columns=['Task Category'])\n",
    "else:\n",
    "    print(\"'Task Category' column not found. Skipping drop operation.\")\n",
    "\n",
    "# List of keywords related to success or status success\n",
    "keywords = ['success', 'successful', 'status success', 'operation successful', 'operation success',\n",
    "            'completed successfully', 'successfully completed', 'task success', 'process success', \n",
    "            'execution success', 'execution successful', 'transaction success']\n",
    "\n",
    "# Create a regular expression pattern from the keywords\n",
    "pattern = '|'.join(keywords)\n",
    "\n",
    "# Remove rows where 'Level' is \"Information\" and 'Original Message' contains any of the keywords (case insensitive)\n",
    "if 'Level' in df.columns and 'Original Message' in df.columns:\n",
    "    df = df[~((df['Level'] == 'Information') & df['Original Message'].str.contains(pattern, case=False))]\n",
    "else:\n",
    "    print(\"Error: 'Level' or 'Original Message' column not found. Skipping row filtering operation.\")\n",
    "\n",
    "# Replace special characters like :,;'\"<>./?\\| with a single space in 'Original Message'\n",
    "df['Original Message'] = df['Original Message'].apply(lambda x: re.sub(r'[:;\\'\"<>./?\\\\|]', ' ', str(x)))\n",
    "\n",
    "# Save the modified dataframe to a new CSV file\n",
    "output_path = r'C:\\Users\\nikha\\OneDrive\\Desktop\\DRYTRY\\new_system.csv'\n",
    "try:\n",
    "    df.to_csv(output_path, index=False)\n",
    "    print(f\"The modified CSV file has been saved successfully to: {output_path}\")\n",
    "except Exception as e:\n",
    "    print(f\"Error while saving the file: {e}\")\n"
   ]
  },
  {
   "cell_type": "code",
   "execution_count": null,
   "metadata": {},
   "outputs": [],
   "source": [
    "import pandas as pd\n",
    "import re\n",
    "from fuzzywuzzy import fuzz\n",
    "from fuzzywuzzy import process\n",
    "\n",
    "# Read the CSV file with ISO-8859-1 encoding\n",
    "df = pd.read_csv(r'C:\\Users\\nikha\\OneDrive\\Desktop\\DryTry\\modified_system.csv', encoding='ISO-8859-1')\n",
    "\n",
    "# Function to drop similar messages\n",
    "def drop_similar_messages(dataframe, threshold=90):\n",
    "    unique_messages = []\n",
    "    to_drop = []\n",
    "    \n",
    "    for index, row in dataframe.iterrows():\n",
    "        message = row['Original Message']\n",
    "        if message in unique_messages:\n",
    "            to_drop.append(index)\n",
    "        else:\n",
    "            matches = process.extract(message, unique_messages, limit=None, scorer=fuzz.ratio)\n",
    "            if any(score >= threshold for _, score in matches):\n",
    "                to_drop.append(index)\n",
    "            else:\n",
    "                unique_messages.append(message)\n",
    "    \n",
    "    return dataframe.drop(index=to_drop)\n",
    "\n",
    "# Drop similar messages based on the threshold\n",
    "df = drop_similar_messages(df, threshold=90)\n",
    "\n",
    "# Save the modified dataframe to a new CSV file\n",
    "output_path = 'C:\\\\Users\\\\nikha\\\\OneDrive\\\\Desktop\\\\DRYTRY\\\\dup.csv'\n",
    "df.to_csv(output_path, index=False)\n",
    "\n",
    "print(f\"The modified CSV file has been saved successfully to: {output_path}\")\n"
   ]
  },
  {
   "cell_type": "markdown",
   "metadata": {},
   "source": [
    "New Pipeline"
   ]
  },
  {
   "cell_type": "code",
   "execution_count": null,
   "metadata": {},
   "outputs": [
    {
     "name": "stdout",
     "output_type": "stream",
     "text": [
      "Error: The file at C:\\Users\\nikha\\OneDrive\\Desktop\\DryTry\\system.csv was not found.\n"
     ]
    },
    {
     "ename": "NameError",
     "evalue": "name 'df' is not defined",
     "output_type": "error",
     "traceback": [
      "\u001b[1;31m---------------------------------------------------------------------------\u001b[0m",
      "\u001b[1;31mNameError\u001b[0m                                 Traceback (most recent call last)",
      "Cell \u001b[1;32mIn[1], line 13\u001b[0m\n\u001b[0;32m     10\u001b[0m     exit()\n\u001b[0;32m     12\u001b[0m \u001b[38;5;66;03m# Rename the last column to 'Original Message'\u001b[39;00m\n\u001b[1;32m---> 13\u001b[0m \u001b[43mdf\u001b[49m\u001b[38;5;241m.\u001b[39mcolumns\u001b[38;5;241m.\u001b[39mvalues[\u001b[38;5;241m-\u001b[39m\u001b[38;5;241m1\u001b[39m] \u001b[38;5;241m=\u001b[39m \u001b[38;5;124m'\u001b[39m\u001b[38;5;124mOriginal Message\u001b[39m\u001b[38;5;124m'\u001b[39m\n\u001b[0;32m     14\u001b[0m \u001b[38;5;124;03m'''\u001b[39;00m\n\u001b[0;32m     15\u001b[0m \u001b[38;5;124;03m# Drop the 'Task Category' column if it exists\u001b[39;00m\n\u001b[0;32m     16\u001b[0m \u001b[38;5;124;03mif 'Task Category' in df.columns:\u001b[39;00m\n\u001b[1;32m   (...)\u001b[0m\n\u001b[0;32m     35\u001b[0m \u001b[38;5;124;03m# Replace special characters like :,;'\"<>./?\\| with a single space in 'Original Message'\u001b[39;00m\n\u001b[0;32m     36\u001b[0m \u001b[38;5;124;03mdf['Original Message'] = df['Original Message'].apply(lambda x: re.sub(r'[:;\\'\"<>./?\\\\|]', ' ', str(x)))'''\u001b[39;00m\n\u001b[0;32m     38\u001b[0m \u001b[38;5;66;03m# Save the modified dataframe to a new CSV file\u001b[39;00m\n",
      "\u001b[1;31mNameError\u001b[0m: name 'df' is not defined"
     ]
    },
    {
     "ename": "",
     "evalue": "",
     "output_type": "error",
     "traceback": [
      "\u001b[1;31mThe Kernel crashed while executing code in the current cell or a previous cell. \n",
      "\u001b[1;31mPlease review the code in the cell(s) to identify a possible cause of the failure. \n",
      "\u001b[1;31mClick <a href='https://aka.ms/vscodeJupyterKernelCrash'>here</a> for more info. \n",
      "\u001b[1;31mView Jupyter <a href='command:jupyter.viewOutput'>log</a> for further details."
     ]
    }
   ],
   "source": [
    "import pandas as pd\n",
    "import re\n",
    "\n",
    "# Read the CSV file with ISO-8859-1 encoding\n",
    "file_path = r'C:\\Users\\nikha\\OneDrive\\Desktop\\DryTry\\system.csv'\n",
    "try:\n",
    "    df = pd.read_csv(file_path, encoding='ISO-8859-1')\n",
    "except FileNotFoundError:\n",
    "    print(f\"Error: The file at {file_path} was not found.\")\n",
    "    exit()\n",
    "\n",
    "# Rename the last column to 'Original Message'\n",
    "df.columns.values[-1] = 'Original Message'\n",
    "'''\n",
    "# Drop the 'Task Category' column if it exists\n",
    "if 'Task Category' in df.columns:\n",
    "    df = df.drop(columns=['Task Category'])\n",
    "else:\n",
    "    print(\"'Task Category' column not found. Skipping drop operation.\")\n",
    "\n",
    "# List of keywords related to success or status success\n",
    "keywords = ['success', 'successful', 'status success', 'operation successful', 'operation success',\n",
    "            'completed successfully', 'successfully completed', 'task success', 'process success', \n",
    "            'execution success', 'execution successful', 'transaction success']\n",
    "\n",
    "# Create a regular expression pattern from the keywords\n",
    "pattern = '|'.join(keywords)\n",
    "\n",
    "# Remove rows where 'Level' is \"Information\" and 'Original Message' contains any of the keywords (case insensitive)\n",
    "if 'Level' in df.columns and 'Original Message' in df.columns:\n",
    "    df = df[~((df['Level'] == 'Information') & df['Original Message'].str.contains(pattern, case=False))]\n",
    "else:\n",
    "    print(\"Error: 'Level' or 'Original Message' column not found. Skipping row filtering operation.\")\n",
    "\n",
    "# Replace special characters like :,;'\"<>./?\\| with a single space in 'Original Message'\n",
    "df['Original Message'] = df['Original Message'].apply(lambda x: re.sub(r'[:;\\'\"<>./?\\\\|]', ' ', str(x)))'''\n",
    "\n",
    "# Save the modified dataframe to a new CSV file\n",
    "output_path = r'C:\\Users\\nikha\\OneDrive\\Desktop\\DRYTRY\\new_system.csv'\n",
    "try:\n",
    "    df.to_csv(output_path, index=False)\n",
    "    print(f\"The modified CSV file has been saved successfully to: {output_path}\")\n",
    "except Exception as e:\n",
    "    print(f\"Error while saving the file: {e}\")\n"
   ]
  }
 ],
 "metadata": {
  "kernelspec": {
   "display_name": "Python 3",
   "language": "python",
   "name": "python3"
  },
  "language_info": {
   "codemirror_mode": {
    "name": "ipython",
    "version": 3
   },
   "file_extension": ".py",
   "mimetype": "text/x-python",
   "name": "python",
   "nbconvert_exporter": "python",
   "pygments_lexer": "ipython3",
   "version": "3.10.11"
  }
 },
 "nbformat": 4,
 "nbformat_minor": 2
}
