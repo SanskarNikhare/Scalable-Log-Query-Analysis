{
 "cells": [
  {
   "cell_type": "code",
   "execution_count": null,
   "metadata": {},
   "outputs": [
    {
     "name": "stdout",
     "output_type": "stream",
     "text": [
      "Log saved: E:\\Sanskar\\Fourth Year\\Final Project\\FyI Project\\Preprocessing\\Log_Extraction\\Extracted_Log_Files\\SystemLog_2025-02-14_00-35-21.csv\n",
      "Log saved: E:\\Sanskar\\Fourth Year\\Final Project\\FyI Project\\Preprocessing\\Log_Extraction\\Extracted_Log_Files\\SystemLog_2025-02-14_00-36-47.csv\n"
     ]
    }
   ],
   "source": [
    "import os\n",
    "import time\n",
    "import subprocess\n",
    "from datetime import datetime\n",
    "\n",
    "# Define the folder to save logs\n",
    "log_folder = r\"E:\\Sanskar\\Fourth Year\\Final Project\\FyI Project\\Preprocessing\\Log_Extraction\\Extracted_Log_Files\"\n",
    "os.makedirs(log_folder, exist_ok=True)\n",
    "\n",
    "while True:\n",
    "    # Generate timestamped filenames\n",
    "    timestamp = datetime.now().strftime(\"%Y-%m-%d_%H-%M-%S\")\n",
    "    csv_filename = os.path.join(log_folder, f\"SystemLog_{timestamp}.csv\")\n",
    "\n",
    "    # PowerShell command to extract logs\n",
    "    powershell_command = f\"\"\"\n",
    "    Get-WinEvent -LogName System | \n",
    "    Select-Object @{{\n",
    "        Name='Level';Expression={{$_.'LevelDisplayName'}}\n",
    "    }}, @{{\n",
    "        Name='Date and Time';Expression={{$_.'TimeCreated'}}\n",
    "    }}, @{{\n",
    "        Name='Source';Expression={{$_.'ProviderName'}}\n",
    "    }}, @{{\n",
    "        Name='Event ID';Expression={{$_.'Id'}}\n",
    "    }}, @{{\n",
    "        Name='Task Category';Expression={{$_.'TaskDisplayName'}}\n",
    "    }}, Message |\n",
    "    Export-Csv -NoTypeInformation -Path '{csv_filename}' -Encoding UTF8\n",
    "    \"\"\"\n",
    "\n",
    "    try:\n",
    "        # Execute PowerShell command\n",
    "        subprocess.run([\"powershell\", \"-Command\", powershell_command], check=True)\n",
    "\n",
    "        # Read CSV and modify the header row\n",
    "        with open(csv_filename, \"r\", encoding=\"utf-8\") as file:\n",
    "            lines = file.readlines()\n",
    "\n",
    "        # Modify the header to remove 'Message' completely\n",
    "        if lines:\n",
    "            headers = lines[0].strip().split(\",\")\n",
    "            if headers[-1] == \"Message\":\n",
    "                lines[0] = \",\".join(headers[:-1]) + \"\\n\"  # Remove 'Message' title but keep data\n",
    "\n",
    "        # Write back modified content\n",
    "        with open(csv_filename, \"w\", encoding=\"utf-8\") as file:\n",
    "            file.writelines(lines)\n",
    "\n",
    "        print(f\"Log saved: {csv_filename}\")\n",
    "\n",
    "    except subprocess.CalledProcessError as e:\n",
    "        print(f\"Error exporting logs: {e}\")\n",
    "\n",
    "    # Wait for 10 minute before the next export\n",
    "    time.sleep(600)\n"
   ]
  }
 ],
 "metadata": {
  "kernelspec": {
   "display_name": "Python 3",
   "language": "python",
   "name": "python3"
  },
  "language_info": {
   "codemirror_mode": {
    "name": "ipython",
    "version": 3
   },
   "file_extension": ".py",
   "mimetype": "text/x-python",
   "name": "python",
   "nbconvert_exporter": "python",
   "pygments_lexer": "ipython3",
   "version": "3.10.11"
  }
 },
 "nbformat": 4,
 "nbformat_minor": 2
}
